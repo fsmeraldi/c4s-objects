{
 "cells": [
  {
   "cell_type": "markdown",
   "metadata": {},
   "source": [
    "# Lingo again "
   ]
  },
  {
   "cell_type": "markdown",
   "metadata": {},
   "source": [
    "Go back to your game of Lingo program. Create a class ```Secret``` that holds the secret word (that should be passed to the constructor). The class should provide three Boolean methods: ```check_contains``` that takes a letter as its argument and returns ```True``` if it is contained in the secret, ```False``` otherwise. Method ```check_position``` should take a letter and a position and return ```True``` if the letter of the secret at the specified position is equal to the letter you have passed, ```False``` otherwise. Finally, ```check_equals``` should take the entire user guess and return ```True``` if it is equal to the secret, ```False``` otherwise. You can also code a method ```length``` that returns the length of the secret. Refactor your code so that it uses the ```Secret``` class.\n"
   ]
  },
  {
   "cell_type": "code",
   "execution_count": null,
   "metadata": {
    "collapsed": true
   },
   "outputs": [],
   "source": []
  },
  {
   "cell_type": "markdown",
   "metadata": {},
   "source": [
    "# Histograms\n",
    "\n",
    "Create a class Histogram that computes a character-bar histogram of categorical data, similar to what you have done in the Functions exercise notebook. This time, the histogram object should actually tally the data as you pass them to it. The constructor should specify which data are acceptable. Add all the methods required so that your Histogram class can be used as follows:\n",
    "\n",
    "```\n",
    "dna=\"AACCTGCGGGT\"\n",
    "\n",
    "dnahisto=Histogram(['A','T','C','G'])\n",
    "\n",
    "for n in dna:\n",
    "    dnahisto.count(n)\n",
    "    \n",
    "dnahisto.print()\n",
    "```\n",
    "\n",
    "and this should print:\n",
    "\n",
    "```\n",
    "A: **\n",
    "T: **\n",
    "C: ***\n",
    "G: ****\n",
    "```\n",
    "Optionally: \n",
    "* add a scaling option that allows each * to represent, for instance, 10 items or 100 items (as the user prefers);\n",
    "* allow the user to choose their preferred character.\n",
    "* test your code on some proteome or large English text.\n",
    "\n"
   ]
  },
  {
   "cell_type": "code",
   "execution_count": null,
   "metadata": {
    "collapsed": true
   },
   "outputs": [],
   "source": []
  },
  {
   "cell_type": "markdown",
   "metadata": {},
   "source": [
    "# Torbjoern Lager's exercise 36\n",
    "\n",
    "This exercise is really about functions and files, but it's kind of cool.\n",
    "\n",
    "A *hapax legomenon* (often abbreviated to hapax ) is a word which occurs only once in either the written record of a language, the works of an author, or in a single text. Write a program that given the file name of a text will return all its hapaxes. Make sure your program ignores capitalization.\n",
    "\n",
    "Go ahead, download some Shakespeare from https://www.gutenberg.org/ and give it a go!\n",
    "\n",
    "(Credits: [Torbjoern Lager](https://www.gu.se/english/about_the_university/staff/?languageId=100001&userId=xlagto))"
   ]
  },
  {
   "cell_type": "code",
   "execution_count": null,
   "metadata": {
    "collapsed": true
   },
   "outputs": [],
   "source": []
  },
  {
   "cell_type": "code",
   "execution_count": null,
   "metadata": {
    "collapsed": true
   },
   "outputs": [],
   "source": []
  }
 ],
 "metadata": {
  "kernelspec": {
   "display_name": "Python 2",
   "language": "python",
   "name": "python2"
  },
  "language_info": {
   "codemirror_mode": {
    "name": "ipython",
    "version": 2
   },
   "file_extension": ".py",
   "mimetype": "text/x-python",
   "name": "python",
   "nbconvert_exporter": "python",
   "pygments_lexer": "ipython2",
   "version": "2.7.17"
  }
 },
 "nbformat": 4,
 "nbformat_minor": 2
}
