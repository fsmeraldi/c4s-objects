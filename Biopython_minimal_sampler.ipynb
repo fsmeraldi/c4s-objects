{
 "cells": [
  {
   "cell_type": "markdown",
   "metadata": {},
   "source": [
    "# Biopython: a minimal sampler"
   ]
  },
  {
   "cell_type": "markdown",
   "metadata": {},
   "source": [
    "**NOTE**: This notebook assumes that you have studied the notebook on Object Oriented Programming and done the exercises.\n",
    "\n",
    "For these materials to work, you must have Biopython installed on your system, that is, you should be able to run the Python instructions ```import Bio``` successfully.\n",
    "\n",
    "Biopython is already installed on the Jupyter Hub. If it is not installed on your system, please check out the [packages](https://biopython.org/wiki/Packages) page, or the general [installation instructions](https://biopython.org/wiki/Download)."
   ]
  },
  {
   "cell_type": "markdown",
   "metadata": {},
   "source": [
    "## Introduction, scope and limitations\n",
    "\n",
    "[Biopython](https://biopython.org/) is a large and heterogenous Python library that supports several common bioinformatics tasks, including sequence I/O, access to the main online databases, sequence alignment, motif construction and search, the analysis of phenotypic data, and some machine learning algorithms. It is the alternative to [BioPerl](https://bioperl.org/) in the Python world.\n",
    "\n",
    "A detailed treatment of Biopython is beyond the scope of this module. This notebook highlights the points of contact between the design and functioning of Biopython and the concepts we have covered so far; the aim is to give you a few entry points and to convince you that you now have all the knowledge and tools required to learn the relevant parts of the library and apply them to your specific problems, when need arises."
   ]
  },
  {
   "cell_type": "markdown",
   "metadata": {},
   "source": [
    "## General structure and entry points\n",
    "\n",
    "Biopython is an object oriented library. The [class diagram](https://biopython.org/DIST/docs/api/class-tree.html) is extensive. It describes the inheritance relation between all classes in the library. However it is best used as a reference, and is not a good access point for learning the library. The reason is that, as we will see, the most important relation between objects for an understanding of Biopython is the *has-a* relationship (e.g., a Sequence Record object has an attribute that is a Sequence object) rather than the *is-a* relationship of inheritance. The [tutorial](http://biopython.org/DIST/docs/tutorial/Tutorial.html) is a far more accessible entry point, and I recommend that you have a look. This sampler discusses a few examples from the tutorial, without any pretense at completeness."
   ]
  },
  {
   "cell_type": "markdown",
   "metadata": {},
   "source": [
    "## The Seq object"
   ]
  },
  {
   "cell_type": "code",
   "execution_count": null,
   "metadata": {},
   "outputs": [],
   "source": [
    "from Bio.Seq import Seq"
   ]
  },
  {
   "cell_type": "markdown",
   "metadata": {},
   "source": [
    "The [Seq](https://biopython.org/docs/1.75/api/Bio.Seq.html) class is maybe the single most important class; it is immutable (though a mutable version exists), and it is basically a string with an alphabet, and a few added functions."
   ]
  },
  {
   "cell_type": "code",
   "execution_count": null,
   "metadata": {},
   "outputs": [],
   "source": [
    "my_seq=Seq(\"ATCGCCTAACGATGA\")"
   ]
  },
  {
   "cell_type": "code",
   "execution_count": null,
   "metadata": {},
   "outputs": [],
   "source": [
    "# you can slice it \n",
    "my_seq[4:7]"
   ]
  },
  {
   "cell_type": "code",
   "execution_count": null,
   "metadata": {},
   "outputs": [],
   "source": [
    "# you can loop over it\n",
    "for (pos, base) in enumerate(my_seq):\n",
    "    print (pos, base)"
   ]
  },
  {
   "cell_type": "code",
   "execution_count": null,
   "metadata": {},
   "outputs": [],
   "source": [
    "# you will find some old friends\n",
    "my_seq.count(\"A\")"
   ]
  },
  {
   "cell_type": "markdown",
   "metadata": {},
   "source": [
    "The ```Seq``` object, obviously, also offers some specific methods:"
   ]
  },
  {
   "cell_type": "code",
   "execution_count": null,
   "metadata": {},
   "outputs": [],
   "source": [
    "# complement of the sequence, does not reverse the string\n",
    "my_seq.complement()"
   ]
  },
  {
   "cell_type": "code",
   "execution_count": null,
   "metadata": {},
   "outputs": [],
   "source": [
    "# complement of the sequence, reverses the string\n",
    "my_seq.reverse_complement()"
   ]
  },
  {
   "cell_type": "code",
   "execution_count": null,
   "metadata": {},
   "outputs": [],
   "source": [
    "# from DNA to RNA\n",
    "print(my_seq.transcribe())"
   ]
  },
  {
   "cell_type": "code",
   "execution_count": null,
   "metadata": {},
   "outputs": [],
   "source": [
    "# Translate works both on DNA and or RNA sequences.\n",
    "# There are two stop codons in this sequence, TAA and TGA\n",
    "my_seq.translate()"
   ]
  },
  {
   "cell_type": "markdown",
   "metadata": {},
   "source": [
    "As the output of ```.translate()``` showns, the ```Seq``` object is also suitable for aminoacid sequences:"
   ]
  },
  {
   "cell_type": "code",
   "execution_count": null,
   "metadata": {},
   "outputs": [],
   "source": [
    "aa_seq=Seq(\"MEEPQ---SDPSVEPPLSQ--ETFSDLWK---LLPE\")\n",
    "aa_seq"
   ]
  },
  {
   "cell_type": "code",
   "execution_count": null,
   "metadata": {},
   "outputs": [],
   "source": [
    "# remove gaps\n",
    "aa_seq.ungap()"
   ]
  },
  {
   "cell_type": "markdown",
   "metadata": {},
   "source": [
    "Some ```Seq``` methods may not make sense all the time:"
   ]
  },
  {
   "cell_type": "code",
   "execution_count": null,
   "metadata": {},
   "outputs": [],
   "source": [
    "aa_seq.complement() # ????? meaningless output"
   ]
  },
  {
   "cell_type": "markdown",
   "metadata": {},
   "source": [
    "```Seq``` supports most applicable string operations, but explicit conversion to/from ```str``` is obviously possible: "
   ]
  },
  {
   "cell_type": "code",
   "execution_count": null,
   "metadata": {},
   "outputs": [],
   "source": [
    "str_seq=str(aa_seq)\n",
    "str_seq"
   ]
  },
  {
   "cell_type": "code",
   "execution_count": null,
   "metadata": {},
   "outputs": [],
   "source": [
    "Seq(str_seq)"
   ]
  },
  {
   "cell_type": "markdown",
   "metadata": {},
   "source": [
    "## The SeqIO package"
   ]
  },
  {
   "cell_type": "code",
   "execution_count": null,
   "metadata": {},
   "outputs": [],
   "source": [
    "from Bio import SeqIO"
   ]
  },
  {
   "cell_type": "markdown",
   "metadata": {},
   "source": [
    "The ```SeqIO``` package provides parsers for lots of file formats. Technically these parsers are *iterables* that load one sequence at a time in the form of a [SeqRecord](https://biopython.org/docs/1.75/api/Bio.SeqRecord.html) object. A ```SeqRecord``` wraps a ```Seq``` object with the actual sequence together with any additional information such as accession numbers, description, annotation, etc.\n",
    "\n",
    "\n",
    "### Reading FASTA files\n",
    "\n",
    "As an example, here is how we obtain a parser object for a FASTA file:"
   ]
  },
  {
   "cell_type": "code",
   "execution_count": null,
   "metadata": {},
   "outputs": [],
   "source": [
    "parser=SeqIO.parse(\"data/P04637.fas\", \"fasta\")\n",
    "print (type(parser)) # as we see, parse returns a specific iterator for the Fasta format"
   ]
  },
  {
   "cell_type": "markdown",
   "metadata": {},
   "source": [
    "If the file has more than one sequence in it, we can loop over the ```parser``` object much as we would over a file handle (see the examples [here](http://biopython.org/DIST/docs/tutorial/Tutorial.html#sec54)), and it will return sequence records one at a time. However, our file only contains one sequence, so we can simply use the ```next``` keyword to read it:"
   ]
  },
  {
   "cell_type": "code",
   "execution_count": null,
   "metadata": {},
   "outputs": [],
   "source": [
    "prot_rcd=next(parser)\n",
    "print(type(prot_rcd))"
   ]
  },
  {
   "cell_type": "markdown",
   "metadata": {},
   "source": [
    "as said, we obtain a [SeqRecord](https://biopython.org/docs/1.75/api/Bio.SeqRecord.html) object. This provides the actual sequence object in the ```.seq``` attribute, together with the additional information included in the file: "
   ]
  },
  {
   "cell_type": "code",
   "execution_count": null,
   "metadata": {},
   "outputs": [],
   "source": [
    "dir (prot_rcd)"
   ]
  },
  {
   "cell_type": "code",
   "execution_count": null,
   "metadata": {},
   "outputs": [],
   "source": [
    "prot_rcd.name"
   ]
  },
  {
   "cell_type": "code",
   "execution_count": null,
   "metadata": {},
   "outputs": [],
   "source": [
    "prot_rcd.description"
   ]
  },
  {
   "cell_type": "code",
   "execution_count": null,
   "metadata": {},
   "outputs": [],
   "source": [
    "prot_rcd.annotations # no annotations - an empty dict"
   ]
  },
  {
   "cell_type": "code",
   "execution_count": null,
   "metadata": {},
   "outputs": [],
   "source": [
    "# this is the Seq object with the actual sequence...\n",
    "type(prot_rcd.seq)"
   ]
  },
  {
   "cell_type": "code",
   "execution_count": null,
   "metadata": {},
   "outputs": [],
   "source": [
    "# ...so here is the sequence\n",
    "print(prot_rcd.seq)"
   ]
  },
  {
   "cell_type": "markdown",
   "metadata": {},
   "source": [
    "### Reading GenBank files\n",
    "\n",
    "The same workflow can be used to read, for instance, [GenBank](https://www.ncbi.nlm.nih.gov/genbank/) data. Here I have downloaded the [genetic sequence](https://www.ncbi.nlm.nih.gov/nuccore/NG_017013) that encodes for the P53 protein, in the GenBank-specific ```.gb``` format. As we can see by inspecting it with an editor, the actual file (in *data/NG_017013.gb*) contains all the rich information displayed on the webpage. The workflow, however, is largely the same as above: we first obtain the parser object"
   ]
  },
  {
   "cell_type": "code",
   "execution_count": null,
   "metadata": {},
   "outputs": [],
   "source": [
    "gb_parser=SeqIO.parse(\"data/NG_017013.gb\", \"gb\")\n",
    "print (type(gb_parser)) # as we see, in this case we get a GenBankIterator"
   ]
  },
  {
   "cell_type": "markdown",
   "metadata": {},
   "source": [
    "and we then read the first (and only) record out of it"
   ]
  },
  {
   "cell_type": "code",
   "execution_count": null,
   "metadata": {},
   "outputs": [],
   "source": [
    "gene_rcd=next(gb_parser)\n",
    "print (type(gene_rcd)) # this is the familiar SeqRecord"
   ]
  },
  {
   "cell_type": "markdown",
   "metadata": {},
   "source": [
    "This time, the ```SeqRecord``` object carries some more information:"
   ]
  },
  {
   "cell_type": "code",
   "execution_count": null,
   "metadata": {},
   "outputs": [],
   "source": [
    "gene_rcd.name"
   ]
  },
  {
   "cell_type": "code",
   "execution_count": null,
   "metadata": {},
   "outputs": [],
   "source": [
    "gene_rcd.description"
   ]
  },
  {
   "cell_type": "code",
   "execution_count": null,
   "metadata": {},
   "outputs": [],
   "source": [
    "gene_rcd.annotations"
   ]
  },
  {
   "cell_type": "markdown",
   "metadata": {},
   "source": [
    "The ```.seq``` attribute is still where the sequence is found:"
   ]
  },
  {
   "cell_type": "code",
   "execution_count": null,
   "metadata": {},
   "outputs": [],
   "source": [
    "print(type(gene_rcd.seq))"
   ]
  },
  {
   "cell_type": "code",
   "execution_count": null,
   "metadata": {},
   "outputs": [],
   "source": [
    "len(gene_rcd.seq)"
   ]
  },
  {
   "cell_type": "code",
   "execution_count": null,
   "metadata": {},
   "outputs": [],
   "source": [
    "gene_rcd.seq"
   ]
  },
  {
   "cell_type": "markdown",
   "metadata": {},
   "source": [
    "## The SearchIO package"
   ]
  },
  {
   "cell_type": "code",
   "execution_count": null,
   "metadata": {},
   "outputs": [],
   "source": [
    "from Bio import SearchIO"
   ]
  },
  {
   "cell_type": "markdown",
   "metadata": {},
   "source": [
    "The [SearchIO](https://biopython.org/docs/1.76/api/Bio.SearchIO.html) package contains the Biopython interface for sequence search program outputs. From the documentation:\n",
    "\n",
    "\"SearchIO parses a search output file’s contents into a hierarchy of four nested objects: QueryResult, Hit, HSP, and HSPFragment. Each of them models a part of the search output file:\n",
    "\n",
    "* ```QueryResult``` represents a search query. This is the main object returned by the input functions and it contains all other objects.\n",
    "\n",
    "* ```Hit``` represents a database hit,\n",
    "\n",
    "* ```HSP``` represents high-scoring alignment region(s) in the hit,\n",
    "\n",
    "* ```HSPFragment``` represents a contiguous alignment within the HSP\"\n",
    "\n",
    "\n",
    "\n",
    "As an example, I dowloaded the output of a BLAST search of the P53 sequence against the *nr* database to a file, in *xml* format. The results can be read with the ```SearchIO.read``` function, that returns a ```QueryResult``` object."
   ]
  },
  {
   "cell_type": "code",
   "execution_count": null,
   "metadata": {},
   "outputs": [],
   "source": [
    "blast_qresult = SearchIO.read(\"data/P53-BLAST-out.xml\", \"blast-xml\")\n",
    "print(type(blast_qresult))"
   ]
  },
  {
   "cell_type": "markdown",
   "metadata": {},
   "source": [
    "The ```QueryResult``` object contains all the hits; the ```len``` function returns the number of hits"
   ]
  },
  {
   "cell_type": "code",
   "execution_count": null,
   "metadata": {},
   "outputs": [],
   "source": [
    "len(blast_qresult)"
   ]
  },
  {
   "cell_type": "code",
   "execution_count": null,
   "metadata": {},
   "outputs": [],
   "source": [
    "# we can slice it\n",
    "print(blast_qresult[:5])"
   ]
  },
  {
   "cell_type": "markdown",
   "metadata": {},
   "source": [
    "By indexing the ```QueryObject``` we access the individual ```Hit``` objects"
   ]
  },
  {
   "cell_type": "code",
   "execution_count": null,
   "metadata": {},
   "outputs": [],
   "source": [
    "top_hit=blast_qresult[0]\n",
    "print (type(top_hit))"
   ]
  },
  {
   "cell_type": "markdown",
   "metadata": {},
   "source": [
    "As can be seen, the ```Hit``` object contains a wealth of information about the search hit:"
   ]
  },
  {
   "cell_type": "code",
   "execution_count": null,
   "metadata": {},
   "outputs": [],
   "source": [
    "dir (top_hit)"
   ]
  },
  {
   "cell_type": "code",
   "execution_count": null,
   "metadata": {},
   "outputs": [],
   "source": [
    "# accession code of the hit\n",
    "top_hit.accession"
   ]
  },
  {
   "cell_type": "code",
   "execution_count": null,
   "metadata": {},
   "outputs": [],
   "source": [
    "# description of the hit\n",
    "top_hit.description"
   ]
  },
  {
   "cell_type": "markdown",
   "metadata": {},
   "source": [
    "The most interesting part is however the ```.hsps``` attribute, that is a list of the High-Scoring Pairs (HSPs) of regions in the hit."
   ]
  },
  {
   "cell_type": "code",
   "execution_count": null,
   "metadata": {},
   "outputs": [],
   "source": [
    "# here we only have one high scoring pair\n",
    "top_hit.hsps"
   ]
  },
  {
   "cell_type": "markdown",
   "metadata": {},
   "source": [
    "The HSP is encoded as a ```HSP``` object. The ```HSP``` object contains a wealth of information about the aligned regions, including evalue, bitscore and range of the match"
   ]
  },
  {
   "cell_type": "code",
   "execution_count": null,
   "metadata": {},
   "outputs": [],
   "source": [
    "hsp=top_hit.hsps[0]\n",
    "print(type(hsp))"
   ]
  },
  {
   "cell_type": "code",
   "execution_count": null,
   "metadata": {},
   "outputs": [],
   "source": [
    "print (hsp)"
   ]
  },
  {
   "cell_type": "code",
   "execution_count": null,
   "metadata": {},
   "outputs": [],
   "source": [
    "dir(hsp)"
   ]
  },
  {
   "cell_type": "markdown",
   "metadata": {},
   "source": [
    "Further down the hierarchy, the ```.fragments``` field of the ```HSP``` object contains the fragments, encoded as ```HSPFragment``` objects"
   ]
  },
  {
   "cell_type": "code",
   "execution_count": null,
   "metadata": {},
   "outputs": [],
   "source": [
    "hsp.fragments"
   ]
  },
  {
   "cell_type": "markdown",
   "metadata": {},
   "source": [
    "# Conclusions\n",
    "\n",
    "This notebook explores only a small fraction of the functionality offered by Biopython. From this quick overview, a few facts should be clear:\n",
    "* Biopython constructs follow general Python coding practices and generally behave the way you would expect them to do;\n",
    "* Biopython objects are interoperable with standard Python data types;\n",
    "* the representation offered by Biopython is both flexible and powerful;\n",
    "* unavoidably, there is a certain overhead involved in using it;\n",
    "* and finally, there is a learning curve, but given a general knowledge of the language, it isn't a steep one.\n",
    "\n",
    "As for all libraries, the benefit of using it should be evaluated on a case-by-case basis. Whether for instance you are better off using the \"blast-xml\" parser or writing some simple code to parse the \"csv\" output of a BLAST search largely depends on what information you need and what you want to do with it.\n",
    "\n",
    "In my opinion, it is certainly worth knowing in general what the library has to offer. There may not, however, be much point in trying to learn the function of all of its classes for the sake of it - that time is better spent in improving one's general programming proficiency. One should probably learn how to use the appropriate parts of Biopython in a task-oriented way, as required by specific problems. "
   ]
  },
  {
   "cell_type": "code",
   "execution_count": null,
   "metadata": {},
   "outputs": [],
   "source": []
  }
 ],
 "metadata": {
  "kernelspec": {
   "display_name": "Python 3",
   "language": "python",
   "name": "python3"
  },
  "language_info": {
   "codemirror_mode": {
    "name": "ipython",
    "version": 3
   },
   "file_extension": ".py",
   "mimetype": "text/x-python",
   "name": "python",
   "nbconvert_exporter": "python",
   "pygments_lexer": "ipython3",
   "version": "3.8.10"
  }
 },
 "nbformat": 4,
 "nbformat_minor": 4
}
